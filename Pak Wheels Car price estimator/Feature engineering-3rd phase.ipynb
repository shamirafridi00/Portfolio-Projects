{
 "cells": [
  {
   "cell_type": "code",
   "execution_count": 1,
   "metadata": {},
   "outputs": [],
   "source": [
    "import os\n",
    "import pandas as pd"
   ]
  },
  {
   "cell_type": "code",
   "execution_count": null,
   "metadata": {
    "scrolled": true
   },
   "outputs": [],
   "source": [
    "# In this cell, I merged all the 8 files into 1 single file and named as all_data.csv\n",
    "\n",
    "files = [file for file in os.listdir(\"cleaned\")]   # generate a list of files present in Cars_Data folder\n",
    "\n",
    "car_data = pd.DataFrame()     # create a empty data frame of name all_cars_data\n",
    "\n",
    "for file in files:\n",
    "    df = pd.read_csv(\"cleaned/\" + file)     # loop through files vairable and get a file\n",
    "    car_data = pd.concat([car_data,df])    # merge those files data into one data frame inshort merging dataframes\n",
    "    \n",
    "car_data.to_csv(\"all_data.csv\",index=False)"
   ]
  },
  {
   "cell_type": "code",
   "execution_count": 2,
   "metadata": {},
   "outputs": [],
   "source": [
    "df = pd.read_csv('all_data.csv')"
   ]
  },
  {
   "cell_type": "code",
   "execution_count": 3,
   "metadata": {},
   "outputs": [
    {
     "data": {
      "text/html": [
       "<div>\n",
       "<style scoped>\n",
       "    .dataframe tbody tr th:only-of-type {\n",
       "        vertical-align: middle;\n",
       "    }\n",
       "\n",
       "    .dataframe tbody tr th {\n",
       "        vertical-align: top;\n",
       "    }\n",
       "\n",
       "    .dataframe thead th {\n",
       "        text-align: right;\n",
       "    }\n",
       "</style>\n",
       "<table border=\"1\" class=\"dataframe\">\n",
       "  <thead>\n",
       "    <tr style=\"text-align: right;\">\n",
       "      <th></th>\n",
       "      <th>name</th>\n",
       "      <th>price</th>\n",
       "      <th>city</th>\n",
       "      <th>year</th>\n",
       "      <th>mileage</th>\n",
       "      <th>feul</th>\n",
       "      <th>engine</th>\n",
       "      <th>driving</th>\n",
       "      <th>model_name</th>\n",
       "    </tr>\n",
       "  </thead>\n",
       "  <tbody>\n",
       "    <tr>\n",
       "      <th>0</th>\n",
       "      <td>Kia Sportage</td>\n",
       "      <td>55.15</td>\n",
       "      <td>Sialkot</td>\n",
       "      <td>2020</td>\n",
       "      <td>4300</td>\n",
       "      <td>Petrol</td>\n",
       "      <td>2000</td>\n",
       "      <td>Automatic</td>\n",
       "      <td>KIA AWD</td>\n",
       "    </tr>\n",
       "    <tr>\n",
       "      <th>1</th>\n",
       "      <td>Kia Sportage</td>\n",
       "      <td>52.95</td>\n",
       "      <td>Islamabad</td>\n",
       "      <td>2020</td>\n",
       "      <td>11384</td>\n",
       "      <td>Petrol</td>\n",
       "      <td>2000</td>\n",
       "      <td>Automatic</td>\n",
       "      <td>KIA FWD</td>\n",
       "    </tr>\n",
       "    <tr>\n",
       "      <th>2</th>\n",
       "      <td>Kia Sportage</td>\n",
       "      <td>0.00</td>\n",
       "      <td>Lahore</td>\n",
       "      <td>2021</td>\n",
       "      <td>2400</td>\n",
       "      <td>Petrol</td>\n",
       "      <td>2000</td>\n",
       "      <td>Automatic</td>\n",
       "      <td>KIA AWD</td>\n",
       "    </tr>\n",
       "    <tr>\n",
       "      <th>3</th>\n",
       "      <td>Kia Sportage</td>\n",
       "      <td>57.40</td>\n",
       "      <td>Islamabad</td>\n",
       "      <td>2021</td>\n",
       "      <td>3000</td>\n",
       "      <td>Petrol</td>\n",
       "      <td>2000</td>\n",
       "      <td>Automatic</td>\n",
       "      <td>KIA AWD</td>\n",
       "    </tr>\n",
       "    <tr>\n",
       "      <th>4</th>\n",
       "      <td>Kia Sportage</td>\n",
       "      <td>57.50</td>\n",
       "      <td>Islamabad</td>\n",
       "      <td>2021</td>\n",
       "      <td>25</td>\n",
       "      <td>Petrol</td>\n",
       "      <td>2000</td>\n",
       "      <td>Automatic</td>\n",
       "      <td>KIA AWD</td>\n",
       "    </tr>\n",
       "    <tr>\n",
       "      <th>...</th>\n",
       "      <td>...</td>\n",
       "      <td>...</td>\n",
       "      <td>...</td>\n",
       "      <td>...</td>\n",
       "      <td>...</td>\n",
       "      <td>...</td>\n",
       "      <td>...</td>\n",
       "      <td>...</td>\n",
       "      <td>...</td>\n",
       "    </tr>\n",
       "    <tr>\n",
       "      <th>35946</th>\n",
       "      <td>toyota corola</td>\n",
       "      <td>8.60</td>\n",
       "      <td>Peshawar</td>\n",
       "      <td>2001</td>\n",
       "      <td>100000</td>\n",
       "      <td>Petrol</td>\n",
       "      <td>1300</td>\n",
       "      <td>Manual</td>\n",
       "      <td>Toyota SE</td>\n",
       "    </tr>\n",
       "    <tr>\n",
       "      <th>35947</th>\n",
       "      <td>toyota corola</td>\n",
       "      <td>15.20</td>\n",
       "      <td>Kasur</td>\n",
       "      <td>2010</td>\n",
       "      <td>185000</td>\n",
       "      <td>Petrol</td>\n",
       "      <td>1300</td>\n",
       "      <td>Manual</td>\n",
       "      <td>Toyota XLi</td>\n",
       "    </tr>\n",
       "    <tr>\n",
       "      <th>35948</th>\n",
       "      <td>toyota corola</td>\n",
       "      <td>27.30</td>\n",
       "      <td>Sargodha</td>\n",
       "      <td>2017</td>\n",
       "      <td>57000</td>\n",
       "      <td>Petrol</td>\n",
       "      <td>1300</td>\n",
       "      <td>Manual</td>\n",
       "      <td>Toyota GLi</td>\n",
       "    </tr>\n",
       "    <tr>\n",
       "      <th>35949</th>\n",
       "      <td>toyota corola</td>\n",
       "      <td>40.50</td>\n",
       "      <td>Rahim Yar Khan</td>\n",
       "      <td>2019</td>\n",
       "      <td>33000</td>\n",
       "      <td>Petrol</td>\n",
       "      <td>1800</td>\n",
       "      <td>Automatic</td>\n",
       "      <td>Toyota Altis</td>\n",
       "    </tr>\n",
       "    <tr>\n",
       "      <th>35950</th>\n",
       "      <td>toyota corola</td>\n",
       "      <td>19.50</td>\n",
       "      <td>Abottabad</td>\n",
       "      <td>2012</td>\n",
       "      <td>103000</td>\n",
       "      <td>Petrol</td>\n",
       "      <td>1300</td>\n",
       "      <td>Manual</td>\n",
       "      <td>Toyota GLi</td>\n",
       "    </tr>\n",
       "  </tbody>\n",
       "</table>\n",
       "<p>35951 rows × 9 columns</p>\n",
       "</div>"
      ],
      "text/plain": [
       "                name  price            city  year  mileage    feul  engine  \\\n",
       "0       Kia Sportage  55.15         Sialkot  2020     4300  Petrol    2000   \n",
       "1       Kia Sportage  52.95       Islamabad  2020    11384  Petrol    2000   \n",
       "2       Kia Sportage   0.00          Lahore  2021     2400  Petrol    2000   \n",
       "3       Kia Sportage  57.40       Islamabad  2021     3000  Petrol    2000   \n",
       "4       Kia Sportage  57.50       Islamabad  2021       25  Petrol    2000   \n",
       "...              ...    ...             ...   ...      ...     ...     ...   \n",
       "35946  toyota corola   8.60        Peshawar  2001   100000  Petrol    1300   \n",
       "35947  toyota corola  15.20           Kasur  2010   185000  Petrol    1300   \n",
       "35948  toyota corola  27.30        Sargodha  2017    57000  Petrol    1300   \n",
       "35949  toyota corola  40.50  Rahim Yar Khan  2019    33000  Petrol    1800   \n",
       "35950  toyota corola  19.50       Abottabad  2012   103000  Petrol    1300   \n",
       "\n",
       "         driving    model_name  \n",
       "0      Automatic       KIA AWD  \n",
       "1      Automatic       KIA FWD  \n",
       "2      Automatic       KIA AWD  \n",
       "3      Automatic       KIA AWD  \n",
       "4      Automatic       KIA AWD  \n",
       "...          ...           ...  \n",
       "35946     Manual     Toyota SE  \n",
       "35947     Manual    Toyota XLi  \n",
       "35948     Manual    Toyota GLi  \n",
       "35949  Automatic  Toyota Altis  \n",
       "35950     Manual    Toyota GLi  \n",
       "\n",
       "[35951 rows x 9 columns]"
      ]
     },
     "execution_count": 3,
     "metadata": {},
     "output_type": "execute_result"
    }
   ],
   "source": [
    "df"
   ]
  },
  {
   "cell_type": "code",
   "execution_count": 4,
   "metadata": {},
   "outputs": [],
   "source": [
    "d = df.copy()"
   ]
  },
  {
   "cell_type": "code",
   "execution_count": 5,
   "metadata": {},
   "outputs": [
    {
     "data": {
      "text/html": [
       "<div>\n",
       "<style scoped>\n",
       "    .dataframe tbody tr th:only-of-type {\n",
       "        vertical-align: middle;\n",
       "    }\n",
       "\n",
       "    .dataframe tbody tr th {\n",
       "        vertical-align: top;\n",
       "    }\n",
       "\n",
       "    .dataframe thead th {\n",
       "        text-align: right;\n",
       "    }\n",
       "</style>\n",
       "<table border=\"1\" class=\"dataframe\">\n",
       "  <thead>\n",
       "    <tr style=\"text-align: right;\">\n",
       "      <th></th>\n",
       "      <th>name</th>\n",
       "      <th>price</th>\n",
       "      <th>city</th>\n",
       "      <th>year</th>\n",
       "      <th>mileage</th>\n",
       "      <th>feul</th>\n",
       "      <th>engine</th>\n",
       "      <th>driving</th>\n",
       "      <th>model_name</th>\n",
       "    </tr>\n",
       "  </thead>\n",
       "  <tbody>\n",
       "    <tr>\n",
       "      <th>0</th>\n",
       "      <td>Kia Sportage</td>\n",
       "      <td>55.15</td>\n",
       "      <td>Sialkot</td>\n",
       "      <td>2020</td>\n",
       "      <td>4300</td>\n",
       "      <td>Petrol</td>\n",
       "      <td>2000</td>\n",
       "      <td>Automatic</td>\n",
       "      <td>KIA AWD</td>\n",
       "    </tr>\n",
       "    <tr>\n",
       "      <th>1</th>\n",
       "      <td>Kia Sportage</td>\n",
       "      <td>52.95</td>\n",
       "      <td>Islamabad</td>\n",
       "      <td>2020</td>\n",
       "      <td>11384</td>\n",
       "      <td>Petrol</td>\n",
       "      <td>2000</td>\n",
       "      <td>Automatic</td>\n",
       "      <td>KIA FWD</td>\n",
       "    </tr>\n",
       "    <tr>\n",
       "      <th>2</th>\n",
       "      <td>Kia Sportage</td>\n",
       "      <td>0.00</td>\n",
       "      <td>Lahore</td>\n",
       "      <td>2021</td>\n",
       "      <td>2400</td>\n",
       "      <td>Petrol</td>\n",
       "      <td>2000</td>\n",
       "      <td>Automatic</td>\n",
       "      <td>KIA AWD</td>\n",
       "    </tr>\n",
       "    <tr>\n",
       "      <th>3</th>\n",
       "      <td>Kia Sportage</td>\n",
       "      <td>57.40</td>\n",
       "      <td>Islamabad</td>\n",
       "      <td>2021</td>\n",
       "      <td>3000</td>\n",
       "      <td>Petrol</td>\n",
       "      <td>2000</td>\n",
       "      <td>Automatic</td>\n",
       "      <td>KIA AWD</td>\n",
       "    </tr>\n",
       "    <tr>\n",
       "      <th>4</th>\n",
       "      <td>Kia Sportage</td>\n",
       "      <td>57.50</td>\n",
       "      <td>Islamabad</td>\n",
       "      <td>2021</td>\n",
       "      <td>25</td>\n",
       "      <td>Petrol</td>\n",
       "      <td>2000</td>\n",
       "      <td>Automatic</td>\n",
       "      <td>KIA AWD</td>\n",
       "    </tr>\n",
       "    <tr>\n",
       "      <th>...</th>\n",
       "      <td>...</td>\n",
       "      <td>...</td>\n",
       "      <td>...</td>\n",
       "      <td>...</td>\n",
       "      <td>...</td>\n",
       "      <td>...</td>\n",
       "      <td>...</td>\n",
       "      <td>...</td>\n",
       "      <td>...</td>\n",
       "    </tr>\n",
       "    <tr>\n",
       "      <th>35946</th>\n",
       "      <td>toyota corola</td>\n",
       "      <td>8.60</td>\n",
       "      <td>Peshawar</td>\n",
       "      <td>2001</td>\n",
       "      <td>100000</td>\n",
       "      <td>Petrol</td>\n",
       "      <td>1300</td>\n",
       "      <td>Manual</td>\n",
       "      <td>Toyota SE</td>\n",
       "    </tr>\n",
       "    <tr>\n",
       "      <th>35947</th>\n",
       "      <td>toyota corola</td>\n",
       "      <td>15.20</td>\n",
       "      <td>Kasur</td>\n",
       "      <td>2010</td>\n",
       "      <td>185000</td>\n",
       "      <td>Petrol</td>\n",
       "      <td>1300</td>\n",
       "      <td>Manual</td>\n",
       "      <td>Toyota XLi</td>\n",
       "    </tr>\n",
       "    <tr>\n",
       "      <th>35948</th>\n",
       "      <td>toyota corola</td>\n",
       "      <td>27.30</td>\n",
       "      <td>Sargodha</td>\n",
       "      <td>2017</td>\n",
       "      <td>57000</td>\n",
       "      <td>Petrol</td>\n",
       "      <td>1300</td>\n",
       "      <td>Manual</td>\n",
       "      <td>Toyota GLi</td>\n",
       "    </tr>\n",
       "    <tr>\n",
       "      <th>35949</th>\n",
       "      <td>toyota corola</td>\n",
       "      <td>40.50</td>\n",
       "      <td>Rahim Yar Khan</td>\n",
       "      <td>2019</td>\n",
       "      <td>33000</td>\n",
       "      <td>Petrol</td>\n",
       "      <td>1800</td>\n",
       "      <td>Automatic</td>\n",
       "      <td>Toyota Altis</td>\n",
       "    </tr>\n",
       "    <tr>\n",
       "      <th>35950</th>\n",
       "      <td>toyota corola</td>\n",
       "      <td>19.50</td>\n",
       "      <td>Abottabad</td>\n",
       "      <td>2012</td>\n",
       "      <td>103000</td>\n",
       "      <td>Petrol</td>\n",
       "      <td>1300</td>\n",
       "      <td>Manual</td>\n",
       "      <td>Toyota GLi</td>\n",
       "    </tr>\n",
       "  </tbody>\n",
       "</table>\n",
       "<p>35951 rows × 9 columns</p>\n",
       "</div>"
      ],
      "text/plain": [
       "                name  price            city  year  mileage    feul  engine  \\\n",
       "0       Kia Sportage  55.15         Sialkot  2020     4300  Petrol    2000   \n",
       "1       Kia Sportage  52.95       Islamabad  2020    11384  Petrol    2000   \n",
       "2       Kia Sportage   0.00          Lahore  2021     2400  Petrol    2000   \n",
       "3       Kia Sportage  57.40       Islamabad  2021     3000  Petrol    2000   \n",
       "4       Kia Sportage  57.50       Islamabad  2021       25  Petrol    2000   \n",
       "...              ...    ...             ...   ...      ...     ...     ...   \n",
       "35946  toyota corola   8.60        Peshawar  2001   100000  Petrol    1300   \n",
       "35947  toyota corola  15.20           Kasur  2010   185000  Petrol    1300   \n",
       "35948  toyota corola  27.30        Sargodha  2017    57000  Petrol    1300   \n",
       "35949  toyota corola  40.50  Rahim Yar Khan  2019    33000  Petrol    1800   \n",
       "35950  toyota corola  19.50       Abottabad  2012   103000  Petrol    1300   \n",
       "\n",
       "         driving    model_name  \n",
       "0      Automatic       KIA AWD  \n",
       "1      Automatic       KIA FWD  \n",
       "2      Automatic       KIA AWD  \n",
       "3      Automatic       KIA AWD  \n",
       "4      Automatic       KIA AWD  \n",
       "...          ...           ...  \n",
       "35946     Manual     Toyota SE  \n",
       "35947     Manual    Toyota XLi  \n",
       "35948     Manual    Toyota GLi  \n",
       "35949  Automatic  Toyota Altis  \n",
       "35950     Manual    Toyota GLi  \n",
       "\n",
       "[35951 rows x 9 columns]"
      ]
     },
     "execution_count": 5,
     "metadata": {},
     "output_type": "execute_result"
    }
   ],
   "source": [
    "d"
   ]
  },
  {
   "cell_type": "code",
   "execution_count": 9,
   "metadata": {},
   "outputs": [
    {
     "data": {
      "text/plain": [
       "367"
      ]
     },
     "execution_count": 9,
     "metadata": {},
     "output_type": "execute_result"
    }
   ],
   "source": [
    "len(d.city.unique())"
   ]
  },
  {
   "cell_type": "code",
   "execution_count": 10,
   "metadata": {},
   "outputs": [],
   "source": [
    "city_stats = d.groupby('city')['city'].agg('count').sort_values(ascending=False)"
   ]
  },
  {
   "cell_type": "code",
   "execution_count": 11,
   "metadata": {},
   "outputs": [
    {
     "data": {
      "text/plain": [
       "city\n",
       "Lahore                                       5817\n",
       "Karachi                                      5259\n",
       "Islamabad                                    4725\n",
       "Rawalpindi                                   2889\n",
       "Peshawar                                     1957\n",
       "                                             ... \n",
       "Sahiwal\\n                       Leased          1\n",
       "Jauharabad\\n                       Leased       1\n",
       "Sadiqabad\\n                       Leased        1\n",
       "Rohri                                           1\n",
       "Kunri                                           1\n",
       "Name: city, Length: 367, dtype: int64"
      ]
     },
     "execution_count": 11,
     "metadata": {},
     "output_type": "execute_result"
    }
   ],
   "source": [
    "city_stats"
   ]
  },
  {
   "cell_type": "markdown",
   "metadata": {},
   "source": [
    "### Replacing cities with other, where cities have less than 121 cars of data."
   ]
  },
  {
   "cell_type": "code",
   "execution_count": 20,
   "metadata": {},
   "outputs": [
    {
     "data": {
      "text/plain": [
       "city\n",
       "Dera ismail khan                             114\n",
       "Mian Wali                                    114\n",
       "Mirpur A.K.                                  113\n",
       "Kohat                                        113\n",
       "Taxila                                       106\n",
       "                                            ... \n",
       "Sahiwal\\n                       Leased         1\n",
       "Jauharabad\\n                       Leased      1\n",
       "Sadiqabad\\n                       Leased       1\n",
       "Rohri                                          1\n",
       "Kunri                                          1\n",
       "Name: city, Length: 334, dtype: int64"
      ]
     },
     "execution_count": 20,
     "metadata": {},
     "output_type": "execute_result"
    }
   ],
   "source": [
    "city_stats[city_stats<=120]"
   ]
  },
  {
   "cell_type": "code",
   "execution_count": 30,
   "metadata": {},
   "outputs": [],
   "source": [
    "city_less_than = city_stats[city_stats<=200]"
   ]
  },
  {
   "cell_type": "code",
   "execution_count": 19,
   "metadata": {},
   "outputs": [
    {
     "data": {
      "text/plain": [
       "150"
      ]
     },
     "execution_count": 19,
     "metadata": {},
     "output_type": "execute_result"
    }
   ],
   "source": [
    "367-217"
   ]
  },
  {
   "cell_type": "code",
   "execution_count": 31,
   "metadata": {},
   "outputs": [],
   "source": [
    "d.city = d.city.apply(lambda x: 'other' if x in city_less_than else x)"
   ]
  },
  {
   "cell_type": "code",
   "execution_count": 32,
   "metadata": {},
   "outputs": [
    {
     "data": {
      "text/plain": [
       "24"
      ]
     },
     "execution_count": 32,
     "metadata": {},
     "output_type": "execute_result"
    }
   ],
   "source": [
    "len(d.city.unique())"
   ]
  },
  {
   "cell_type": "code",
   "execution_count": 193,
   "metadata": {},
   "outputs": [
    {
     "data": {
      "text/plain": [
       "name          0\n",
       "price         0\n",
       "city          0\n",
       "year          0\n",
       "mileage       0\n",
       "feul          0\n",
       "engine        0\n",
       "driving       0\n",
       "model_name    0\n",
       "dtype: int64"
      ]
     },
     "execution_count": 193,
     "metadata": {},
     "output_type": "execute_result"
    }
   ],
   "source": [
    "df.isna().sum()"
   ]
  },
  {
   "cell_type": "code",
   "execution_count": 194,
   "metadata": {},
   "outputs": [
    {
     "data": {
      "text/plain": [
       "name           object\n",
       "price         float64\n",
       "city           object\n",
       "year            int64\n",
       "mileage         int64\n",
       "feul           object\n",
       "engine          int64\n",
       "driving        object\n",
       "model_name     object\n",
       "dtype: object"
      ]
     },
     "execution_count": 194,
     "metadata": {},
     "output_type": "execute_result"
    }
   ],
   "source": [
    "df.dtypes"
   ]
  },
  {
   "cell_type": "code",
   "execution_count": 33,
   "metadata": {},
   "outputs": [],
   "source": [
    "#df4 = df3.copy()\n",
    "df0 = d.copy()"
   ]
  },
  {
   "cell_type": "code",
   "execution_count": 196,
   "metadata": {},
   "outputs": [],
   "source": [
    "df0 = df0[df0.engine>=30]"
   ]
  },
  {
   "cell_type": "code",
   "execution_count": 174,
   "metadata": {},
   "outputs": [
    {
     "data": {
      "text/plain": [
       "367"
      ]
     },
     "execution_count": 174,
     "metadata": {},
     "output_type": "execute_result"
    }
   ],
   "source": [
    "len(dfff.city.unique())"
   ]
  },
  {
   "cell_type": "code",
   "execution_count": 34,
   "metadata": {},
   "outputs": [
    {
     "data": {
      "text/plain": [
       "array(['Sialkot', 'Islamabad', 'Lahore', 'other', 'Karachi',\n",
       "       'Lahore\\n                       Leased', 'Mandi bahauddin',\n",
       "       'Bahawalpur', 'Abottabad', 'Multan', 'Rawalpindi', 'Hyderabad',\n",
       "       'Faisalabad', 'Gujranwala', 'Sargodha', 'Gujrat', 'Peshawar',\n",
       "       'Rahim Yar Khan', 'Attock', 'Mardan', 'Quetta', 'Mansahra',\n",
       "       'Wah cantt', 'Chakwal'], dtype=object)"
      ]
     },
     "execution_count": 34,
     "metadata": {},
     "output_type": "execute_result"
    }
   ],
   "source": [
    "df0.city.unique()"
   ]
  },
  {
   "cell_type": "markdown",
   "metadata": {},
   "source": [
    "### Treating garbage data"
   ]
  },
  {
   "cell_type": "code",
   "execution_count": 35,
   "metadata": {},
   "outputs": [],
   "source": [
    "df0['city']=df0.city.str.replace(\"\\n                       Leased\",\" \")"
   ]
  },
  {
   "cell_type": "code",
   "execution_count": 36,
   "metadata": {},
   "outputs": [
    {
     "data": {
      "text/plain": [
       "323559"
      ]
     },
     "execution_count": 36,
     "metadata": {},
     "output_type": "execute_result"
    }
   ],
   "source": [
    "df0.size"
   ]
  },
  {
   "cell_type": "code",
   "execution_count": 37,
   "metadata": {},
   "outputs": [
    {
     "data": {
      "text/html": [
       "<div>\n",
       "<style scoped>\n",
       "    .dataframe tbody tr th:only-of-type {\n",
       "        vertical-align: middle;\n",
       "    }\n",
       "\n",
       "    .dataframe tbody tr th {\n",
       "        vertical-align: top;\n",
       "    }\n",
       "\n",
       "    .dataframe thead th {\n",
       "        text-align: right;\n",
       "    }\n",
       "</style>\n",
       "<table border=\"1\" class=\"dataframe\">\n",
       "  <thead>\n",
       "    <tr style=\"text-align: right;\">\n",
       "      <th></th>\n",
       "      <th>price</th>\n",
       "      <th>year</th>\n",
       "      <th>mileage</th>\n",
       "      <th>engine</th>\n",
       "    </tr>\n",
       "  </thead>\n",
       "  <tbody>\n",
       "    <tr>\n",
       "      <th>count</th>\n",
       "      <td>35951.000000</td>\n",
       "      <td>35951.000000</td>\n",
       "      <td>35951.000000</td>\n",
       "      <td>35951.000000</td>\n",
       "    </tr>\n",
       "    <tr>\n",
       "      <th>mean</th>\n",
       "      <td>16.314558</td>\n",
       "      <td>2011.171567</td>\n",
       "      <td>87335.854941</td>\n",
       "      <td>1233.966566</td>\n",
       "    </tr>\n",
       "    <tr>\n",
       "      <th>std</th>\n",
       "      <td>12.008135</td>\n",
       "      <td>7.415583</td>\n",
       "      <td>88262.835609</td>\n",
       "      <td>400.242695</td>\n",
       "    </tr>\n",
       "    <tr>\n",
       "      <th>min</th>\n",
       "      <td>0.000000</td>\n",
       "      <td>1964.000000</td>\n",
       "      <td>1.000000</td>\n",
       "      <td>4.000000</td>\n",
       "    </tr>\n",
       "    <tr>\n",
       "      <th>25%</th>\n",
       "      <td>7.250000</td>\n",
       "      <td>2007.000000</td>\n",
       "      <td>38000.000000</td>\n",
       "      <td>800.000000</td>\n",
       "    </tr>\n",
       "    <tr>\n",
       "      <th>50%</th>\n",
       "      <td>12.200000</td>\n",
       "      <td>2012.000000</td>\n",
       "      <td>72000.000000</td>\n",
       "      <td>1300.000000</td>\n",
       "    </tr>\n",
       "    <tr>\n",
       "      <th>75%</th>\n",
       "      <td>22.750000</td>\n",
       "      <td>2017.000000</td>\n",
       "      <td>108532.000000</td>\n",
       "      <td>1600.000000</td>\n",
       "    </tr>\n",
       "    <tr>\n",
       "      <th>max</th>\n",
       "      <td>80.000000</td>\n",
       "      <td>2021.000000</td>\n",
       "      <td>999999.000000</td>\n",
       "      <td>5539.000000</td>\n",
       "    </tr>\n",
       "  </tbody>\n",
       "</table>\n",
       "</div>"
      ],
      "text/plain": [
       "              price          year        mileage        engine\n",
       "count  35951.000000  35951.000000   35951.000000  35951.000000\n",
       "mean      16.314558   2011.171567   87335.854941   1233.966566\n",
       "std       12.008135      7.415583   88262.835609    400.242695\n",
       "min        0.000000   1964.000000       1.000000      4.000000\n",
       "25%        7.250000   2007.000000   38000.000000    800.000000\n",
       "50%       12.200000   2012.000000   72000.000000   1300.000000\n",
       "75%       22.750000   2017.000000  108532.000000   1600.000000\n",
       "max       80.000000   2021.000000  999999.000000   5539.000000"
      ]
     },
     "execution_count": 37,
     "metadata": {},
     "output_type": "execute_result"
    }
   ],
   "source": [
    "df0.describe()"
   ]
  },
  {
   "cell_type": "markdown",
   "metadata": {},
   "source": [
    "### Detecting outliers"
   ]
  },
  {
   "cell_type": "code",
   "execution_count": 152,
   "metadata": {},
   "outputs": [
    {
     "data": {
      "text/html": [
       "<div>\n",
       "<style scoped>\n",
       "    .dataframe tbody tr th:only-of-type {\n",
       "        vertical-align: middle;\n",
       "    }\n",
       "\n",
       "    .dataframe tbody tr th {\n",
       "        vertical-align: top;\n",
       "    }\n",
       "\n",
       "    .dataframe thead th {\n",
       "        text-align: right;\n",
       "    }\n",
       "</style>\n",
       "<table border=\"1\" class=\"dataframe\">\n",
       "  <thead>\n",
       "    <tr style=\"text-align: right;\">\n",
       "      <th></th>\n",
       "      <th>name</th>\n",
       "      <th>price</th>\n",
       "      <th>city</th>\n",
       "      <th>year</th>\n",
       "      <th>mileage</th>\n",
       "      <th>feul</th>\n",
       "      <th>engine</th>\n",
       "      <th>driving</th>\n",
       "      <th>model_name</th>\n",
       "    </tr>\n",
       "  </thead>\n",
       "  <tbody>\n",
       "    <tr>\n",
       "      <th>302</th>\n",
       "      <td>Kia Sportage</td>\n",
       "      <td>59.50</td>\n",
       "      <td>Lahore</td>\n",
       "      <td>2021</td>\n",
       "      <td>28</td>\n",
       "      <td>Petrol</td>\n",
       "      <td>2000</td>\n",
       "      <td>Automatic</td>\n",
       "      <td>KIA AWD</td>\n",
       "    </tr>\n",
       "    <tr>\n",
       "      <th>469</th>\n",
       "      <td>Kia Sportage</td>\n",
       "      <td>59.25</td>\n",
       "      <td>Islamabad</td>\n",
       "      <td>2021</td>\n",
       "      <td>170</td>\n",
       "      <td>Petrol</td>\n",
       "      <td>2000</td>\n",
       "      <td>Automatic</td>\n",
       "      <td>KIA AWD</td>\n",
       "    </tr>\n",
       "    <tr>\n",
       "      <th>496</th>\n",
       "      <td>Kia Sportage</td>\n",
       "      <td>60.00</td>\n",
       "      <td>Faisalabad</td>\n",
       "      <td>2021</td>\n",
       "      <td>34</td>\n",
       "      <td>Petrol</td>\n",
       "      <td>2000</td>\n",
       "      <td>Automatic</td>\n",
       "      <td>KIA AWD</td>\n",
       "    </tr>\n",
       "    <tr>\n",
       "      <th>509</th>\n",
       "      <td>Kia Sportage</td>\n",
       "      <td>60.00</td>\n",
       "      <td>Mardan</td>\n",
       "      <td>2021</td>\n",
       "      <td>1822</td>\n",
       "      <td>Petrol</td>\n",
       "      <td>2400</td>\n",
       "      <td>Automatic</td>\n",
       "      <td>KIA</td>\n",
       "    </tr>\n",
       "    <tr>\n",
       "      <th>567</th>\n",
       "      <td>Kia Sportage</td>\n",
       "      <td>60.00</td>\n",
       "      <td>Islamabad</td>\n",
       "      <td>2020</td>\n",
       "      <td>5000</td>\n",
       "      <td>Petrol</td>\n",
       "      <td>2000</td>\n",
       "      <td>Automatic</td>\n",
       "      <td>KIA AWD</td>\n",
       "    </tr>\n",
       "    <tr>\n",
       "      <th>583</th>\n",
       "      <td>Kia Sportage</td>\n",
       "      <td>59.50</td>\n",
       "      <td>Rawalpindi</td>\n",
       "      <td>2020</td>\n",
       "      <td>4000</td>\n",
       "      <td>Petrol</td>\n",
       "      <td>2000</td>\n",
       "      <td>Automatic</td>\n",
       "      <td>KIA AWD</td>\n",
       "    </tr>\n",
       "    <tr>\n",
       "      <th>754</th>\n",
       "      <td>Kia Sportage</td>\n",
       "      <td>60.00</td>\n",
       "      <td>Islamabad</td>\n",
       "      <td>2021</td>\n",
       "      <td>6000</td>\n",
       "      <td>Petrol</td>\n",
       "      <td>2000</td>\n",
       "      <td>Automatic</td>\n",
       "      <td>KIA AWD</td>\n",
       "    </tr>\n",
       "    <tr>\n",
       "      <th>2232</th>\n",
       "      <td>suzuki alto</td>\n",
       "      <td>62.50</td>\n",
       "      <td>Attock</td>\n",
       "      <td>2006</td>\n",
       "      <td>75020</td>\n",
       "      <td>Petrol</td>\n",
       "      <td>1000</td>\n",
       "      <td>Manual</td>\n",
       "      <td>Suzuki VXR</td>\n",
       "    </tr>\n",
       "    <tr>\n",
       "      <th>13270</th>\n",
       "      <td>suzuki cultus</td>\n",
       "      <td>80.00</td>\n",
       "      <td>Faisalabad</td>\n",
       "      <td>2007</td>\n",
       "      <td>78650</td>\n",
       "      <td>Petrol</td>\n",
       "      <td>1000</td>\n",
       "      <td>Manual</td>\n",
       "      <td>Suzuki VXL</td>\n",
       "    </tr>\n",
       "    <tr>\n",
       "      <th>26238</th>\n",
       "      <td>toyota corola</td>\n",
       "      <td>68.00</td>\n",
       "      <td>Rawalpindi</td>\n",
       "      <td>2020</td>\n",
       "      <td>21000</td>\n",
       "      <td>Hybrid</td>\n",
       "      <td>1800</td>\n",
       "      <td>Automatic</td>\n",
       "      <td>Toyota</td>\n",
       "    </tr>\n",
       "    <tr>\n",
       "      <th>26694</th>\n",
       "      <td>toyota corola</td>\n",
       "      <td>65.00</td>\n",
       "      <td>Karachi</td>\n",
       "      <td>2018</td>\n",
       "      <td>82000</td>\n",
       "      <td>Hybrid</td>\n",
       "      <td>1800</td>\n",
       "      <td>Automatic</td>\n",
       "      <td>Toyota</td>\n",
       "    </tr>\n",
       "    <tr>\n",
       "      <th>27302</th>\n",
       "      <td>toyota corola</td>\n",
       "      <td>68.00</td>\n",
       "      <td>Lahore</td>\n",
       "      <td>2020</td>\n",
       "      <td>6000</td>\n",
       "      <td>Hybrid</td>\n",
       "      <td>1800</td>\n",
       "      <td>Automatic</td>\n",
       "      <td>Toyota</td>\n",
       "    </tr>\n",
       "    <tr>\n",
       "      <th>32296</th>\n",
       "      <td>toyota corola</td>\n",
       "      <td>70.00</td>\n",
       "      <td>Islamabad</td>\n",
       "      <td>1988</td>\n",
       "      <td>70000</td>\n",
       "      <td>Petrol</td>\n",
       "      <td>1300</td>\n",
       "      <td>Manual</td>\n",
       "      <td>Toyota DX</td>\n",
       "    </tr>\n",
       "  </tbody>\n",
       "</table>\n",
       "</div>"
      ],
      "text/plain": [
       "                name  price        city  year  mileage    feul  engine  \\\n",
       "302     Kia Sportage  59.50      Lahore  2021       28  Petrol    2000   \n",
       "469     Kia Sportage  59.25   Islamabad  2021      170  Petrol    2000   \n",
       "496     Kia Sportage  60.00  Faisalabad  2021       34  Petrol    2000   \n",
       "509     Kia Sportage  60.00      Mardan  2021     1822  Petrol    2400   \n",
       "567     Kia Sportage  60.00   Islamabad  2020     5000  Petrol    2000   \n",
       "583     Kia Sportage  59.50  Rawalpindi  2020     4000  Petrol    2000   \n",
       "754     Kia Sportage  60.00   Islamabad  2021     6000  Petrol    2000   \n",
       "2232     suzuki alto  62.50      Attock  2006    75020  Petrol    1000   \n",
       "13270  suzuki cultus  80.00  Faisalabad  2007    78650  Petrol    1000   \n",
       "26238  toyota corola  68.00  Rawalpindi  2020    21000  Hybrid    1800   \n",
       "26694  toyota corola  65.00     Karachi  2018    82000  Hybrid    1800   \n",
       "27302  toyota corola  68.00      Lahore  2020     6000  Hybrid    1800   \n",
       "32296  toyota corola  70.00   Islamabad  1988    70000  Petrol    1300   \n",
       "\n",
       "         driving  model_name  \n",
       "302    Automatic     KIA AWD  \n",
       "469    Automatic     KIA AWD  \n",
       "496    Automatic     KIA AWD  \n",
       "509    Automatic        KIA   \n",
       "567    Automatic     KIA AWD  \n",
       "583    Automatic     KIA AWD  \n",
       "754    Automatic     KIA AWD  \n",
       "2232      Manual  Suzuki VXR  \n",
       "13270     Manual  Suzuki VXL  \n",
       "26238  Automatic     Toyota   \n",
       "26694  Automatic     Toyota   \n",
       "27302  Automatic     Toyota   \n",
       "32296     Manual   Toyota DX  "
      ]
     },
     "execution_count": 152,
     "metadata": {},
     "output_type": "execute_result"
    }
   ],
   "source": [
    "df0[df5.price>59.000000]"
   ]
  },
  {
   "cell_type": "code",
   "execution_count": 158,
   "metadata": {},
   "outputs": [
    {
     "data": {
      "text/html": [
       "<div>\n",
       "<style scoped>\n",
       "    .dataframe tbody tr th:only-of-type {\n",
       "        vertical-align: middle;\n",
       "    }\n",
       "\n",
       "    .dataframe tbody tr th {\n",
       "        vertical-align: top;\n",
       "    }\n",
       "\n",
       "    .dataframe thead th {\n",
       "        text-align: right;\n",
       "    }\n",
       "</style>\n",
       "<table border=\"1\" class=\"dataframe\">\n",
       "  <thead>\n",
       "    <tr style=\"text-align: right;\">\n",
       "      <th></th>\n",
       "      <th>name</th>\n",
       "      <th>price</th>\n",
       "      <th>city</th>\n",
       "      <th>year</th>\n",
       "      <th>mileage</th>\n",
       "      <th>feul</th>\n",
       "      <th>engine</th>\n",
       "      <th>driving</th>\n",
       "      <th>model_name</th>\n",
       "    </tr>\n",
       "  </thead>\n",
       "  <tbody>\n",
       "    <tr>\n",
       "      <th>2</th>\n",
       "      <td>Kia Sportage</td>\n",
       "      <td>0.0</td>\n",
       "      <td>Lahore</td>\n",
       "      <td>2021</td>\n",
       "      <td>2400</td>\n",
       "      <td>Petrol</td>\n",
       "      <td>2000</td>\n",
       "      <td>Automatic</td>\n",
       "      <td>KIA AWD</td>\n",
       "    </tr>\n",
       "    <tr>\n",
       "      <th>35</th>\n",
       "      <td>Kia Sportage</td>\n",
       "      <td>0.0</td>\n",
       "      <td>Islamabad</td>\n",
       "      <td>2021</td>\n",
       "      <td>20</td>\n",
       "      <td>Petrol</td>\n",
       "      <td>2000</td>\n",
       "      <td>Automatic</td>\n",
       "      <td>KIA AWD</td>\n",
       "    </tr>\n",
       "    <tr>\n",
       "      <th>36</th>\n",
       "      <td>Kia Sportage</td>\n",
       "      <td>0.0</td>\n",
       "      <td>Islamabad</td>\n",
       "      <td>2021</td>\n",
       "      <td>20</td>\n",
       "      <td>Petrol</td>\n",
       "      <td>2000</td>\n",
       "      <td>Automatic</td>\n",
       "      <td>KIA FWD</td>\n",
       "    </tr>\n",
       "    <tr>\n",
       "      <th>66</th>\n",
       "      <td>Kia Sportage</td>\n",
       "      <td>0.0</td>\n",
       "      <td>Islamabad</td>\n",
       "      <td>2021</td>\n",
       "      <td>55</td>\n",
       "      <td>Petrol</td>\n",
       "      <td>2000</td>\n",
       "      <td>Automatic</td>\n",
       "      <td>KIA AWD</td>\n",
       "    </tr>\n",
       "    <tr>\n",
       "      <th>67</th>\n",
       "      <td>Kia Sportage</td>\n",
       "      <td>0.0</td>\n",
       "      <td>Karachi</td>\n",
       "      <td>2021</td>\n",
       "      <td>20</td>\n",
       "      <td>Petrol</td>\n",
       "      <td>2000</td>\n",
       "      <td>Automatic</td>\n",
       "      <td>KIA AWD</td>\n",
       "    </tr>\n",
       "    <tr>\n",
       "      <th>...</th>\n",
       "      <td>...</td>\n",
       "      <td>...</td>\n",
       "      <td>...</td>\n",
       "      <td>...</td>\n",
       "      <td>...</td>\n",
       "      <td>...</td>\n",
       "      <td>...</td>\n",
       "      <td>...</td>\n",
       "      <td>...</td>\n",
       "    </tr>\n",
       "    <tr>\n",
       "      <th>34201</th>\n",
       "      <td>toyota corola</td>\n",
       "      <td>0.0</td>\n",
       "      <td>Karachi</td>\n",
       "      <td>2017</td>\n",
       "      <td>47000</td>\n",
       "      <td>Petrol</td>\n",
       "      <td>1600</td>\n",
       "      <td>Automatic</td>\n",
       "      <td>Toyota Altis</td>\n",
       "    </tr>\n",
       "    <tr>\n",
       "      <th>34357</th>\n",
       "      <td>toyota corola</td>\n",
       "      <td>0.0</td>\n",
       "      <td>Karachi</td>\n",
       "      <td>2016</td>\n",
       "      <td>21300</td>\n",
       "      <td>Petrol</td>\n",
       "      <td>1300</td>\n",
       "      <td>Automatic</td>\n",
       "      <td>Toyota GLi</td>\n",
       "    </tr>\n",
       "    <tr>\n",
       "      <th>34518</th>\n",
       "      <td>toyota corola</td>\n",
       "      <td>0.0</td>\n",
       "      <td>Karachi</td>\n",
       "      <td>2019</td>\n",
       "      <td>55000</td>\n",
       "      <td>Petrol</td>\n",
       "      <td>1600</td>\n",
       "      <td>Automatic</td>\n",
       "      <td>Toyota Altis</td>\n",
       "    </tr>\n",
       "    <tr>\n",
       "      <th>35247</th>\n",
       "      <td>toyota corola</td>\n",
       "      <td>1.7</td>\n",
       "      <td>Karachi</td>\n",
       "      <td>1974</td>\n",
       "      <td>74000</td>\n",
       "      <td>CNG</td>\n",
       "      <td>1200</td>\n",
       "      <td>Manual</td>\n",
       "      <td>Toyota 2.0D</td>\n",
       "    </tr>\n",
       "    <tr>\n",
       "      <th>35884</th>\n",
       "      <td>toyota corola</td>\n",
       "      <td>0.0</td>\n",
       "      <td>Karachi</td>\n",
       "      <td>2018</td>\n",
       "      <td>5000</td>\n",
       "      <td>Petrol</td>\n",
       "      <td>1800</td>\n",
       "      <td>Automatic</td>\n",
       "      <td>Toyota Altis</td>\n",
       "    </tr>\n",
       "  </tbody>\n",
       "</table>\n",
       "<p>264 rows × 9 columns</p>\n",
       "</div>"
      ],
      "text/plain": [
       "                name  price       city  year  mileage    feul  engine  \\\n",
       "2       Kia Sportage    0.0     Lahore  2021     2400  Petrol    2000   \n",
       "35      Kia Sportage    0.0  Islamabad  2021       20  Petrol    2000   \n",
       "36      Kia Sportage    0.0  Islamabad  2021       20  Petrol    2000   \n",
       "66      Kia Sportage    0.0  Islamabad  2021       55  Petrol    2000   \n",
       "67      Kia Sportage    0.0    Karachi  2021       20  Petrol    2000   \n",
       "...              ...    ...        ...   ...      ...     ...     ...   \n",
       "34201  toyota corola    0.0    Karachi  2017    47000  Petrol    1600   \n",
       "34357  toyota corola    0.0    Karachi  2016    21300  Petrol    1300   \n",
       "34518  toyota corola    0.0    Karachi  2019    55000  Petrol    1600   \n",
       "35247  toyota corola    1.7    Karachi  1974    74000     CNG    1200   \n",
       "35884  toyota corola    0.0    Karachi  2018     5000  Petrol    1800   \n",
       "\n",
       "         driving    model_name  \n",
       "2      Automatic       KIA AWD  \n",
       "35     Automatic       KIA AWD  \n",
       "36     Automatic       KIA FWD  \n",
       "66     Automatic       KIA AWD  \n",
       "67     Automatic       KIA AWD  \n",
       "...          ...           ...  \n",
       "34201  Automatic  Toyota Altis  \n",
       "34357  Automatic    Toyota GLi  \n",
       "34518  Automatic  Toyota Altis  \n",
       "35247     Manual   Toyota 2.0D  \n",
       "35884  Automatic  Toyota Altis  \n",
       "\n",
       "[264 rows x 9 columns]"
      ]
     },
     "execution_count": 158,
     "metadata": {},
     "output_type": "execute_result"
    }
   ],
   "source": [
    "df5[df5.price < 1.8]"
   ]
  },
  {
   "cell_type": "code",
   "execution_count": 150,
   "metadata": {},
   "outputs": [
    {
     "data": {
      "text/plain": [
       "50.5"
      ]
     },
     "execution_count": 150,
     "metadata": {},
     "output_type": "execute_result"
    }
   ],
   "source": [
    "df5['price'].quantile(0.98)"
   ]
  },
  {
   "cell_type": "code",
   "execution_count": 91,
   "metadata": {},
   "outputs": [
    {
     "data": {
      "text/plain": [
       "40.0"
      ]
     },
     "execution_count": 91,
     "metadata": {},
     "output_type": "execute_result"
    }
   ],
   "source": [
    "df3"
   ]
  },
  {
   "cell_type": "code",
   "execution_count": 117,
   "metadata": {},
   "outputs": [],
   "source": [
    "import matplotlib.pyplot as plt"
   ]
  },
  {
   "cell_type": "markdown",
   "metadata": {},
   "source": [
    "### Prices of cars are leftly skewed"
   ]
  },
  {
   "cell_type": "code",
   "execution_count": 118,
   "metadata": {},
   "outputs": [
    {
     "data": {
      "image/png": "[encoded data removed]",
      "text/plain": [
       "<Figure size 432x288 with 1 Axes>"
      ]
     },
     "metadata": {
      "needs_background": "light"
     },
     "output_type": "display_data"
    }
   ],
   "source": [
    "plt.hist(df.price, bins =20, rwidth=0.8)\n",
    "plt.xlabel('price')\n",
    "plt.ylabel('count')\n",
    "plt.show()"
   ]
  },
  {
   "cell_type": "code",
   "execution_count": 39,
   "metadata": {},
   "outputs": [],
   "source": [
    "min_threshold = 1.7\n",
    "max_threshold = 60"
   ]
  },
  {
   "cell_type": "code",
   "execution_count": 40,
   "metadata": {},
   "outputs": [
    {
     "data": {
      "text/plain": [
       "(35678, 9)"
      ]
     },
     "execution_count": 40,
     "metadata": {},
     "output_type": "execute_result"
    }
   ],
   "source": [
    "df0 = df0[(df0.price<max_threshold) & (df0.price>min_threshold)]\n",
    "df0.shape"
   ]
  },
  {
   "cell_type": "code",
   "execution_count": 161,
   "metadata": {},
   "outputs": [
    {
     "data": {
      "text/html": [
       "<div>\n",
       "<style scoped>\n",
       "    .dataframe tbody tr th:only-of-type {\n",
       "        vertical-align: middle;\n",
       "    }\n",
       "\n",
       "    .dataframe tbody tr th {\n",
       "        vertical-align: top;\n",
       "    }\n",
       "\n",
       "    .dataframe thead th {\n",
       "        text-align: right;\n",
       "    }\n",
       "</style>\n",
       "<table border=\"1\" class=\"dataframe\">\n",
       "  <thead>\n",
       "    <tr style=\"text-align: right;\">\n",
       "      <th></th>\n",
       "      <th>price</th>\n",
       "      <th>year</th>\n",
       "      <th>mileage</th>\n",
       "      <th>engine</th>\n",
       "    </tr>\n",
       "  </thead>\n",
       "  <tbody>\n",
       "    <tr>\n",
       "      <th>count</th>\n",
       "      <td>35675.000000</td>\n",
       "      <td>35675.000000</td>\n",
       "      <td>35675.000000</td>\n",
       "      <td>35675.000000</td>\n",
       "    </tr>\n",
       "    <tr>\n",
       "      <th>mean</th>\n",
       "      <td>16.419962</td>\n",
       "      <td>2011.147891</td>\n",
       "      <td>87616.533455</td>\n",
       "      <td>1232.482719</td>\n",
       "    </tr>\n",
       "    <tr>\n",
       "      <th>std</th>\n",
       "      <td>11.945618</td>\n",
       "      <td>7.389320</td>\n",
       "      <td>88213.683935</td>\n",
       "      <td>399.560752</td>\n",
       "    </tr>\n",
       "    <tr>\n",
       "      <th>min</th>\n",
       "      <td>1.750000</td>\n",
       "      <td>1964.000000</td>\n",
       "      <td>1.000000</td>\n",
       "      <td>100.000000</td>\n",
       "    </tr>\n",
       "    <tr>\n",
       "      <th>25%</th>\n",
       "      <td>7.350000</td>\n",
       "      <td>2007.000000</td>\n",
       "      <td>38606.500000</td>\n",
       "      <td>800.000000</td>\n",
       "    </tr>\n",
       "    <tr>\n",
       "      <th>50%</th>\n",
       "      <td>12.300000</td>\n",
       "      <td>2012.000000</td>\n",
       "      <td>72000.000000</td>\n",
       "      <td>1300.000000</td>\n",
       "    </tr>\n",
       "    <tr>\n",
       "      <th>75%</th>\n",
       "      <td>22.800000</td>\n",
       "      <td>2017.000000</td>\n",
       "      <td>109000.000000</td>\n",
       "      <td>1600.000000</td>\n",
       "    </tr>\n",
       "    <tr>\n",
       "      <th>max</th>\n",
       "      <td>59.500000</td>\n",
       "      <td>2021.000000</td>\n",
       "      <td>999999.000000</td>\n",
       "      <td>5539.000000</td>\n",
       "    </tr>\n",
       "  </tbody>\n",
       "</table>\n",
       "</div>"
      ],
      "text/plain": [
       "              price          year        mileage        engine\n",
       "count  35675.000000  35675.000000   35675.000000  35675.000000\n",
       "mean      16.419962   2011.147891   87616.533455   1232.482719\n",
       "std       11.945618      7.389320   88213.683935    399.560752\n",
       "min        1.750000   1964.000000       1.000000    100.000000\n",
       "25%        7.350000   2007.000000   38606.500000    800.000000\n",
       "50%       12.300000   2012.000000   72000.000000   1300.000000\n",
       "75%       22.800000   2017.000000  109000.000000   1600.000000\n",
       "max       59.500000   2021.000000  999999.000000   5539.000000"
      ]
     },
     "execution_count": 161,
     "metadata": {},
     "output_type": "execute_result"
    }
   ],
   "source": [
    "df1.describe()"
   ]
  },
  {
   "cell_type": "code",
   "execution_count": 41,
   "metadata": {},
   "outputs": [],
   "source": [
    "df0.to_csv('useable_data.csv',index=False)"
   ]
  }
 ],
 "metadata": {
  "kernelspec": {
   "display_name": "Python 3",
   "language": "python",
   "name": "python3"
  },
  "language_info": {
   "codemirror_mode": {
    "name": "ipython",
    "version": 3
   },
   "file_extension": ".py",
   "mimetype": "text/x-python",
   "name": "python",
   "nbconvert_exporter": "python",
   "pygments_lexer": "ipython3",
   "version": "3.8.8"
  }
 },
 "nbformat": 4,
 "nbformat_minor": 4
}
