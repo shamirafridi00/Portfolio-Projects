{
 "cells": [
  {
   "cell_type": "code",
   "execution_count": 9,
   "metadata": {},
   "outputs": [
    {
     "data": {
      "text/html": [
       "<div>\n",
       "<style scoped>\n",
       "    .dataframe tbody tr th:only-of-type {\n",
       "        vertical-align: middle;\n",
       "    }\n",
       "\n",
       "    .dataframe tbody tr th {\n",
       "        vertical-align: top;\n",
       "    }\n",
       "\n",
       "    .dataframe thead th {\n",
       "        text-align: right;\n",
       "    }\n",
       "</style>\n",
       "<table border=\"1\" class=\"dataframe\">\n",
       "  <thead>\n",
       "    <tr style=\"text-align: right;\">\n",
       "      <th></th>\n",
       "      <th>name</th>\n",
       "      <th>model_name</th>\n",
       "      <th>city</th>\n",
       "      <th>year</th>\n",
       "      <th>driving</th>\n",
       "      <th>feul</th>\n",
       "      <th>engine</th>\n",
       "      <th>kms</th>\n",
       "      <th>price</th>\n",
       "    </tr>\n",
       "  </thead>\n",
       "  <tbody>\n",
       "    <tr>\n",
       "      <th>0</th>\n",
       "      <td>Kia Sportage</td>\n",
       "      <td>KIA AWD</td>\n",
       "      <td>Sialkot</td>\n",
       "      <td>2020</td>\n",
       "      <td>Automatic</td>\n",
       "      <td>Petrol</td>\n",
       "      <td>2000</td>\n",
       "      <td>4300</td>\n",
       "      <td>55.15</td>\n",
       "    </tr>\n",
       "    <tr>\n",
       "      <th>1</th>\n",
       "      <td>Kia Sportage</td>\n",
       "      <td>KIA FWD</td>\n",
       "      <td>Islamabad</td>\n",
       "      <td>2020</td>\n",
       "      <td>Automatic</td>\n",
       "      <td>Petrol</td>\n",
       "      <td>2000</td>\n",
       "      <td>11384</td>\n",
       "      <td>52.95</td>\n",
       "    </tr>\n",
       "    <tr>\n",
       "      <th>2</th>\n",
       "      <td>Kia Sportage</td>\n",
       "      <td>KIA AWD</td>\n",
       "      <td>Islamabad</td>\n",
       "      <td>2021</td>\n",
       "      <td>Automatic</td>\n",
       "      <td>Petrol</td>\n",
       "      <td>2000</td>\n",
       "      <td>3000</td>\n",
       "      <td>57.40</td>\n",
       "    </tr>\n",
       "    <tr>\n",
       "      <th>3</th>\n",
       "      <td>Kia Sportage</td>\n",
       "      <td>KIA AWD</td>\n",
       "      <td>Islamabad</td>\n",
       "      <td>2021</td>\n",
       "      <td>Automatic</td>\n",
       "      <td>Petrol</td>\n",
       "      <td>2000</td>\n",
       "      <td>25</td>\n",
       "      <td>57.50</td>\n",
       "    </tr>\n",
       "    <tr>\n",
       "      <th>4</th>\n",
       "      <td>Kia Sportage</td>\n",
       "      <td>KIA FWD</td>\n",
       "      <td>Islamabad</td>\n",
       "      <td>2021</td>\n",
       "      <td>Automatic</td>\n",
       "      <td>Petrol</td>\n",
       "      <td>2000</td>\n",
       "      <td>50</td>\n",
       "      <td>52.80</td>\n",
       "    </tr>\n",
       "  </tbody>\n",
       "</table>\n",
       "</div>"
      ],
      "text/plain": [
       "           name model_name       city  year    driving    feul  engine    kms  \\\n",
       "0  Kia Sportage    KIA AWD    Sialkot  2020  Automatic  Petrol    2000   4300   \n",
       "1  Kia Sportage    KIA FWD  Islamabad  2020  Automatic  Petrol    2000  11384   \n",
       "2  Kia Sportage    KIA AWD  Islamabad  2021  Automatic  Petrol    2000   3000   \n",
       "3  Kia Sportage    KIA AWD  Islamabad  2021  Automatic  Petrol    2000     25   \n",
       "4  Kia Sportage    KIA FWD  Islamabad  2021  Automatic  Petrol    2000     50   \n",
       "\n",
       "   price  \n",
       "0  55.15  \n",
       "1  52.95  \n",
       "2  57.40  \n",
       "3  57.50  \n",
       "4  52.80  "
      ]
     },
     "execution_count": 9,
     "metadata": {},
     "output_type": "execute_result"
    }
   ],
   "source": [
    "import pandas as pd\n",
    "import numpy as np\n",
    "from sklearn import preprocessing\n",
    "\n",
    "\n",
    "data = pd.read_csv('pakwheels_cardataset.csv')\n",
    "data.head()"
   ]
  },
  {
   "cell_type": "markdown",
   "metadata": {},
   "source": [
    "### One hot encoding"
   ]
  },
  {
   "cell_type": "code",
   "execution_count": 2,
   "metadata": {},
   "outputs": [],
   "source": [
    "categorical_variables = ['name','model_name','city','driving','feul']"
   ]
  },
  {
   "cell_type": "code",
   "execution_count": 3,
   "metadata": {},
   "outputs": [],
   "source": [
    "labelEncoder = preprocessing.LabelEncoder()"
   ]
  },
  {
   "cell_type": "code",
   "execution_count": 10,
   "metadata": {},
   "outputs": [
    {
     "name": "stdout",
     "output_type": "stream",
     "text": [
      "{'name': {'Kia Sportage': 0, 'honda civic': 1, 'suzuki alto': 2, 'suzuki bolan': 3, 'suzuki cultus': 4, 'suzuki mehran': 5, 'suzuki swift': 6, 'toyota corola': 7}, 'model_name': {'Honda ': 0, 'Honda 1.5': 1, 'Honda 1.8': 2, 'Honda 2005': 3, 'Honda EL': 4, 'Honda EX': 5, 'Honda EXi': 6, 'Honda GL': 7, 'Honda LXi': 8, 'Honda Oriel': 9, 'Honda SXi': 10, 'Honda Si': 11, 'Honda Turbo': 12, 'Honda Type': 13, 'Honda VTi': 14, 'KIA ': 15, 'KIA 2.0': 16, 'KIA AWD': 17, 'KIA Alpha': 18, 'KIA FWD': 19, 'Suzuki ': 20, 'Suzuki Auto': 21, 'Suzuki DLX': 22, 'Suzuki DX': 23, 'Suzuki E': 24, 'Suzuki ECO-L': 25, 'Suzuki ECO-S': 26, 'Suzuki EII': 27, 'Suzuki EURO': 28, 'Suzuki Euro': 29, 'Suzuki F': 30, 'Suzuki G': 31, 'Suzuki G4': 32, 'Suzuki GII': 33, 'Suzuki GL': 34, 'Suzuki L': 35, 'Suzuki Limited': 36, 'Suzuki Memorial': 37, 'Suzuki RS': 38, 'Suzuki S': 39, 'Suzuki Sport': 40, 'Suzuki TURBO': 41, 'Suzuki VP': 42, 'Suzuki VS': 43, 'Suzuki VX': 44, 'Suzuki VXL': 45, 'Suzuki VXLi': 46, 'Suzuki VXR': 47, 'Suzuki VXRi': 48, 'Suzuki X': 49, 'Suzuki XG': 50, 'Suzuki XL': 51, 'Suzuki XS': 52, 'Toyota ': 53, 'Toyota 2.0D': 54, 'Toyota Altis': 55, 'Toyota DX': 56, 'Toyota G': 57, 'Toyota GL': 58, 'Toyota GLi': 59, 'Toyota LX': 60, 'Toyota Luxel': 61, 'Toyota SE': 62, 'Toyota TX': 63, 'Toyota X': 64, 'Toyota XE': 65, 'Toyota XE-G': 66, 'Toyota XL': 67, 'Toyota XLi': 68}, 'city': {'Abottabad': 0, 'Attock': 1, 'Bahawalpur': 2, 'Chakwal': 3, 'Faisalabad': 4, 'Gujranwala': 5, 'Gujrat': 6, 'Hyderabad': 7, 'Islamabad': 8, 'Karachi': 9, 'Lahore': 10, 'Lahore ': 11, 'Mandi bahauddin': 12, 'Mansahra': 13, 'Mardan': 14, 'Multan': 15, 'Peshawar': 16, 'Quetta': 17, 'Rahim Yar Khan': 18, 'Rawalpindi': 19, 'Sargodha': 20, 'Sialkot': 21, 'Wah cantt': 22, 'other': 23}, 'driving': {'Automatic': 0, 'Manual': 1}, 'feul': {'CNG': 0, 'Diesel': 1, 'Hybrid': 2, 'LPG': 3, 'Petrol': 4}}\n"
     ]
    }
   ],
   "source": [
    "mapping_dict ={}\n",
    "for col in categorical_variables:\n",
    "    data[col] = labelEncoder.fit_transform(data[col])\n",
    "  \n",
    "    le_name_mapping = dict(zip(labelEncoder.classes_,\n",
    "                        labelEncoder.transform(labelEncoder.classes_)))\n",
    "  \n",
    "    mapping_dict[col]= le_name_mapping\n",
    "print(mapping_dict)"
   ]
  },
  {
   "cell_type": "code",
   "execution_count": 5,
   "metadata": {},
   "outputs": [],
   "source": [
    "from sklearn.model_selection import train_test_split\n",
    "from sklearn.linear_model import LinearRegression\n",
    "from sklearn.metrics import r2_score\n"
   ]
  },
  {
   "cell_type": "code",
   "execution_count": 11,
   "metadata": {},
   "outputs": [
    {
     "data": {
      "text/html": [
       "<div>\n",
       "<style scoped>\n",
       "    .dataframe tbody tr th:only-of-type {\n",
       "        vertical-align: middle;\n",
       "    }\n",
       "\n",
       "    .dataframe tbody tr th {\n",
       "        vertical-align: top;\n",
       "    }\n",
       "\n",
       "    .dataframe thead th {\n",
       "        text-align: right;\n",
       "    }\n",
       "</style>\n",
       "<table border=\"1\" class=\"dataframe\">\n",
       "  <thead>\n",
       "    <tr style=\"text-align: right;\">\n",
       "      <th></th>\n",
       "      <th>name</th>\n",
       "      <th>model_name</th>\n",
       "      <th>city</th>\n",
       "      <th>year</th>\n",
       "      <th>driving</th>\n",
       "      <th>feul</th>\n",
       "      <th>engine</th>\n",
       "      <th>kms</th>\n",
       "      <th>price</th>\n",
       "    </tr>\n",
       "  </thead>\n",
       "  <tbody>\n",
       "    <tr>\n",
       "      <th>0</th>\n",
       "      <td>0</td>\n",
       "      <td>17</td>\n",
       "      <td>21</td>\n",
       "      <td>2020</td>\n",
       "      <td>0</td>\n",
       "      <td>4</td>\n",
       "      <td>2000</td>\n",
       "      <td>4300</td>\n",
       "      <td>55.15</td>\n",
       "    </tr>\n",
       "    <tr>\n",
       "      <th>1</th>\n",
       "      <td>0</td>\n",
       "      <td>19</td>\n",
       "      <td>8</td>\n",
       "      <td>2020</td>\n",
       "      <td>0</td>\n",
       "      <td>4</td>\n",
       "      <td>2000</td>\n",
       "      <td>11384</td>\n",
       "      <td>52.95</td>\n",
       "    </tr>\n",
       "    <tr>\n",
       "      <th>2</th>\n",
       "      <td>0</td>\n",
       "      <td>17</td>\n",
       "      <td>8</td>\n",
       "      <td>2021</td>\n",
       "      <td>0</td>\n",
       "      <td>4</td>\n",
       "      <td>2000</td>\n",
       "      <td>3000</td>\n",
       "      <td>57.40</td>\n",
       "    </tr>\n",
       "    <tr>\n",
       "      <th>3</th>\n",
       "      <td>0</td>\n",
       "      <td>17</td>\n",
       "      <td>8</td>\n",
       "      <td>2021</td>\n",
       "      <td>0</td>\n",
       "      <td>4</td>\n",
       "      <td>2000</td>\n",
       "      <td>25</td>\n",
       "      <td>57.50</td>\n",
       "    </tr>\n",
       "    <tr>\n",
       "      <th>4</th>\n",
       "      <td>0</td>\n",
       "      <td>19</td>\n",
       "      <td>8</td>\n",
       "      <td>2021</td>\n",
       "      <td>0</td>\n",
       "      <td>4</td>\n",
       "      <td>2000</td>\n",
       "      <td>50</td>\n",
       "      <td>52.80</td>\n",
       "    </tr>\n",
       "    <tr>\n",
       "      <th>...</th>\n",
       "      <td>...</td>\n",
       "      <td>...</td>\n",
       "      <td>...</td>\n",
       "      <td>...</td>\n",
       "      <td>...</td>\n",
       "      <td>...</td>\n",
       "      <td>...</td>\n",
       "      <td>...</td>\n",
       "      <td>...</td>\n",
       "    </tr>\n",
       "    <tr>\n",
       "      <th>35673</th>\n",
       "      <td>7</td>\n",
       "      <td>62</td>\n",
       "      <td>16</td>\n",
       "      <td>2001</td>\n",
       "      <td>1</td>\n",
       "      <td>4</td>\n",
       "      <td>1300</td>\n",
       "      <td>100000</td>\n",
       "      <td>8.60</td>\n",
       "    </tr>\n",
       "    <tr>\n",
       "      <th>35674</th>\n",
       "      <td>7</td>\n",
       "      <td>68</td>\n",
       "      <td>23</td>\n",
       "      <td>2010</td>\n",
       "      <td>1</td>\n",
       "      <td>4</td>\n",
       "      <td>1300</td>\n",
       "      <td>185000</td>\n",
       "      <td>15.20</td>\n",
       "    </tr>\n",
       "    <tr>\n",
       "      <th>35675</th>\n",
       "      <td>7</td>\n",
       "      <td>59</td>\n",
       "      <td>20</td>\n",
       "      <td>2017</td>\n",
       "      <td>1</td>\n",
       "      <td>4</td>\n",
       "      <td>1300</td>\n",
       "      <td>57000</td>\n",
       "      <td>27.30</td>\n",
       "    </tr>\n",
       "    <tr>\n",
       "      <th>35676</th>\n",
       "      <td>7</td>\n",
       "      <td>55</td>\n",
       "      <td>18</td>\n",
       "      <td>2019</td>\n",
       "      <td>0</td>\n",
       "      <td>4</td>\n",
       "      <td>1800</td>\n",
       "      <td>33000</td>\n",
       "      <td>40.50</td>\n",
       "    </tr>\n",
       "    <tr>\n",
       "      <th>35677</th>\n",
       "      <td>7</td>\n",
       "      <td>59</td>\n",
       "      <td>0</td>\n",
       "      <td>2012</td>\n",
       "      <td>1</td>\n",
       "      <td>4</td>\n",
       "      <td>1300</td>\n",
       "      <td>103000</td>\n",
       "      <td>19.50</td>\n",
       "    </tr>\n",
       "  </tbody>\n",
       "</table>\n",
       "<p>35678 rows × 9 columns</p>\n",
       "</div>"
      ],
      "text/plain": [
       "       name  model_name  city  year  driving  feul  engine     kms  price\n",
       "0         0          17    21  2020        0     4    2000    4300  55.15\n",
       "1         0          19     8  2020        0     4    2000   11384  52.95\n",
       "2         0          17     8  2021        0     4    2000    3000  57.40\n",
       "3         0          17     8  2021        0     4    2000      25  57.50\n",
       "4         0          19     8  2021        0     4    2000      50  52.80\n",
       "...     ...         ...   ...   ...      ...   ...     ...     ...    ...\n",
       "35673     7          62    16  2001        1     4    1300  100000   8.60\n",
       "35674     7          68    23  2010        1     4    1300  185000  15.20\n",
       "35675     7          59    20  2017        1     4    1300   57000  27.30\n",
       "35676     7          55    18  2019        0     4    1800   33000  40.50\n",
       "35677     7          59     0  2012        1     4    1300  103000  19.50\n",
       "\n",
       "[35678 rows x 9 columns]"
      ]
     },
     "execution_count": 11,
     "metadata": {},
     "output_type": "execute_result"
    }
   ],
   "source": [
    "data"
   ]
  },
  {
   "cell_type": "code",
   "execution_count": null,
   "metadata": {},
   "outputs": [],
   "source": []
  },
  {
   "cell_type": "code",
   "execution_count": 7,
   "metadata": {},
   "outputs": [],
   "source": [
    "X = data.drop(columns = 'price')\n",
    "y = data['price']"
   ]
  },
  {
   "cell_type": "code",
   "execution_count": 8,
   "metadata": {},
   "outputs": [],
   "source": [
    "X_train, X_test, y_train, y_test = train_test_split(\n",
    "           X, y, test_size = 0.2)"
   ]
  },
  {
   "cell_type": "code",
   "execution_count": 9,
   "metadata": {},
   "outputs": [],
   "source": [
    "lr = LinearRegression()"
   ]
  },
  {
   "cell_type": "code",
   "execution_count": 10,
   "metadata": {},
   "outputs": [
    {
     "data": {
      "text/plain": [
       "LinearRegression()"
      ]
     },
     "execution_count": 10,
     "metadata": {},
     "output_type": "execute_result"
    }
   ],
   "source": [
    "lr.fit(X_train,y_train)"
   ]
  },
  {
   "cell_type": "code",
   "execution_count": 27,
   "metadata": {},
   "outputs": [],
   "source": [
    "y_pred = lr.predict(X_test)"
   ]
  },
  {
   "cell_type": "code",
   "execution_count": 19,
   "metadata": {},
   "outputs": [
    {
     "data": {
      "text/plain": [
       "5184      8.50\n",
       "11961    42.50\n",
       "13660     9.50\n",
       "3259      6.50\n",
       "32096     7.35\n",
       "         ...  \n",
       "17301     6.20\n",
       "32299    26.00\n",
       "29002    33.00\n",
       "29189    14.50\n",
       "24273     8.25\n",
       "Name: price, Length: 7136, dtype: float64"
      ]
     },
     "execution_count": 19,
     "metadata": {},
     "output_type": "execute_result"
    }
   ],
   "source": [
    "y_test"
   ]
  },
  {
   "cell_type": "markdown",
   "metadata": {},
   "source": [
    "### Linear regression score is 79"
   ]
  },
  {
   "cell_type": "code",
   "execution_count": 28,
   "metadata": {
    "scrolled": true
   },
   "outputs": [
    {
     "name": "stdout",
     "output_type": "stream",
     "text": [
      "[ 8.00806214 26.33311527  9.96071233 ... 30.97751391 10.35464192\n",
      " 30.10294372]\n"
     ]
    }
   ],
   "source": [
    "print(y_pred)"
   ]
  },
  {
   "cell_type": "code",
   "execution_count": 29,
   "metadata": {},
   "outputs": [
    {
     "data": {
      "text/plain": [
       "0.7956714987892082"
      ]
     },
     "execution_count": 29,
     "metadata": {},
     "output_type": "execute_result"
    }
   ],
   "source": [
    "lr.score(X_test,y_test)"
   ]
  },
  {
   "cell_type": "code",
   "execution_count": 30,
   "metadata": {},
   "outputs": [
    {
     "data": {
      "text/plain": [
       "RandomForestRegressor(random_state=0)"
      ]
     },
     "execution_count": 30,
     "metadata": {},
     "output_type": "execute_result"
    }
   ],
   "source": [
    "from sklearn.ensemble import RandomForestRegressor\n",
    "  \n",
    " # create regressor object\n",
    "regressor = RandomForestRegressor(n_estimators = 100, random_state = 0)\n",
    "  \n",
    "# fit the regressor with x and y data\n",
    "regressor.fit(X_train, y_train)  "
   ]
  },
  {
   "cell_type": "markdown",
   "metadata": {},
   "source": [
    "### Random Forest regressor score is 95"
   ]
  },
  {
   "cell_type": "code",
   "execution_count": 31,
   "metadata": {},
   "outputs": [
    {
     "data": {
      "text/plain": [
       "0.9550042691252861"
      ]
     },
     "execution_count": 31,
     "metadata": {},
     "output_type": "execute_result"
    }
   ],
   "source": [
    "regressor.score(X_test,y_test)"
   ]
  },
  {
   "cell_type": "code",
   "execution_count": 32,
   "metadata": {},
   "outputs": [],
   "source": [
    "yy = regressor.predict(X_test)"
   ]
  },
  {
   "cell_type": "code",
   "execution_count": 25,
   "metadata": {},
   "outputs": [],
   "source": [
    "score = []\n",
    "for i in range(1000):\n",
    "    X_train,X_test,y_train,y_test = train_test_split(X,y,test_size=0.2,random_state=i)\n",
    "    lr = LinearRegression()\n",
    "    lr.fit(X_train,y_train)\n",
    "    y_pred = lr.predict(X_test)\n",
    "    score.append(r2_score(y_test,y_pred))"
   ]
  },
  {
   "cell_type": "code",
   "execution_count": 50,
   "metadata": {},
   "outputs": [
    {
     "data": {
      "text/plain": [
       "660"
      ]
     },
     "execution_count": 50,
     "metadata": {},
     "output_type": "execute_result"
    }
   ],
   "source": [
    "np.argmax(score)"
   ]
  },
  {
   "cell_type": "code",
   "execution_count": 51,
   "metadata": {},
   "outputs": [
    {
     "data": {
      "text/plain": [
       "0.8144421855268296"
      ]
     },
     "execution_count": 51,
     "metadata": {},
     "output_type": "execute_result"
    }
   ],
   "source": [
    "score[np.argmax(score)]"
   ]
  },
  {
   "cell_type": "code",
   "execution_count": 54,
   "metadata": {},
   "outputs": [
    {
     "data": {
      "text/plain": [
       "0.8125981539478349"
      ]
     },
     "execution_count": 54,
     "metadata": {},
     "output_type": "execute_result"
    }
   ],
   "source": [
    "X_train,X_test,y_train,y_test = train_test_split(X,y,test_size=0.3,random_state=np.argmax(score))\n",
    "lr = LinearRegression()\n",
    "lr.fit(X_train,y_train)\n",
    "y_pred = lr.predict(X_test)\n",
    "r2_score(y_test,y_pred)"
   ]
  },
  {
   "cell_type": "code",
   "execution_count": 74,
   "metadata": {},
   "outputs": [],
   "source": [
    "import pickle "
   ]
  },
  {
   "cell_type": "markdown",
   "metadata": {},
   "source": [
    "### As we are going to use random forest regressor"
   ]
  },
  {
   "cell_type": "code",
   "execution_count": 76,
   "metadata": {},
   "outputs": [],
   "source": [
    "pickle.dump(regressor,open('r.pkl','wb'))"
   ]
  },
  {
   "cell_type": "code",
   "execution_count": 67,
   "metadata": {},
   "outputs": [],
   "source": [
    "import joblib"
   ]
  },
  {
   "cell_type": "code",
   "execution_count": 77,
   "metadata": {},
   "outputs": [
    {
     "data": {
      "text/plain": [
       "['r.pkl']"
      ]
     },
     "execution_count": 77,
     "metadata": {},
     "output_type": "execute_result"
    }
   ],
   "source": [
    "joblib.dump(regressor,'r.pkl',compress=True)"
   ]
  }
 ],
 "metadata": {
  "kernelspec": {
   "display_name": "Python 3",
   "language": "python",
   "name": "python3"
  },
  "language_info": {
   "codemirror_mode": {
    "name": "ipython",
    "version": 3
   },
   "file_extension": ".py",
   "mimetype": "text/x-python",
   "name": "python",
   "nbconvert_exporter": "python",
   "pygments_lexer": "ipython3",
   "version": "3.8.8"
  }
 },
 "nbformat": 4,
 "nbformat_minor": 4
}
